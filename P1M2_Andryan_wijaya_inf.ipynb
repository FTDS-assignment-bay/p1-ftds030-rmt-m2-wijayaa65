{
 "cells": [
  {
   "cell_type": "code",
   "execution_count": null,
   "metadata": {},
   "outputs": [],
   "source": []
  },
  {
   "cell_type": "markdown",
   "metadata": {},
   "source": [
    "# 10. Model Inference"
   ]
  },
  {
   "cell_type": "code",
   "execution_count": null,
   "metadata": {},
   "outputs": [],
   "source": [
    "#load\n",
    "with open('list_kat.txt', 'r') as file_1:\n",
    "  list_kat = json.load(file_1)\n",
    "\n",
    "with open('list_num.txt', 'r') as file_2:\n",
    "  list_num = json.load(file_2)\n",
    "\n",
    "with open('scaler.pkl', 'rb') as file_3:\n",
    "  scaler = pickle.load(file_3)\n",
    "\n",
    "with open('ohe.pkl', 'rb') as file_4:\n",
    "  ohe = pickle.load(file_4)\n",
    "\n",
    "with open('model_SVM.pkl', 'rb') as file_5:\n",
    "  model_svm = pickle.load(file_5)"
   ]
  },
  {
   "cell_type": "code",
   "execution_count": null,
   "metadata": {},
   "outputs": [
    {
     "data": {
      "text/html": [
       "<div>\n",
       "<style scoped>\n",
       "    .dataframe tbody tr th:only-of-type {\n",
       "        vertical-align: middle;\n",
       "    }\n",
       "\n",
       "    .dataframe tbody tr th {\n",
       "        vertical-align: top;\n",
       "    }\n",
       "\n",
       "    .dataframe thead th {\n",
       "        text-align: right;\n",
       "    }\n",
       "</style>\n",
       "<table border=\"1\" class=\"dataframe\">\n",
       "  <thead>\n",
       "    <tr style=\"text-align: right;\">\n",
       "      <th></th>\n",
       "      <th>limit_balance</th>\n",
       "      <th>sex</th>\n",
       "      <th>education_level</th>\n",
       "      <th>marital_status</th>\n",
       "      <th>age</th>\n",
       "      <th>pay_0</th>\n",
       "      <th>pay_2</th>\n",
       "      <th>pay_3</th>\n",
       "      <th>pay_4</th>\n",
       "      <th>pay_5</th>\n",
       "      <th>...</th>\n",
       "      <th>bill_amt_3</th>\n",
       "      <th>bill_amt_4</th>\n",
       "      <th>bill_amt_5</th>\n",
       "      <th>bill_amt_6</th>\n",
       "      <th>pay_amt_1</th>\n",
       "      <th>pay_amt_2</th>\n",
       "      <th>pay_amt_3</th>\n",
       "      <th>pay_amt_4</th>\n",
       "      <th>pay_amt_5</th>\n",
       "      <th>pay_amt_6</th>\n",
       "    </tr>\n",
       "  </thead>\n",
       "  <tbody>\n",
       "    <tr>\n",
       "      <th>0</th>\n",
       "      <td>5430000</td>\n",
       "      <td>2</td>\n",
       "      <td>1</td>\n",
       "      <td>3</td>\n",
       "      <td>35</td>\n",
       "      <td>2</td>\n",
       "      <td>4</td>\n",
       "      <td>2</td>\n",
       "      <td>1</td>\n",
       "      <td>-1</td>\n",
       "      <td>...</td>\n",
       "      <td>9000</td>\n",
       "      <td>4000</td>\n",
       "      <td>3000</td>\n",
       "      <td>6000</td>\n",
       "      <td>0</td>\n",
       "      <td>2000</td>\n",
       "      <td>1000</td>\n",
       "      <td>5000</td>\n",
       "      <td>3000</td>\n",
       "      <td>2000</td>\n",
       "    </tr>\n",
       "  </tbody>\n",
       "</table>\n",
       "<p>1 rows × 23 columns</p>\n",
       "</div>"
      ],
      "text/plain": [
       "   limit_balance  sex  education_level  marital_status  age  pay_0  pay_2  \\\n",
       "0        5430000    2                1               3   35      2      4   \n",
       "\n",
       "   pay_3  pay_4  pay_5  ...  bill_amt_3  bill_amt_4  bill_amt_5  bill_amt_6  \\\n",
       "0      2      1     -1  ...        9000        4000        3000        6000   \n",
       "\n",
       "   pay_amt_1  pay_amt_2  pay_amt_3  pay_amt_4  pay_amt_5  pay_amt_6  \n",
       "0          0       2000       1000       5000       3000       2000  \n",
       "\n",
       "[1 rows x 23 columns]"
      ]
     },
     "metadata": {},
     "output_type": "display_data"
    }
   ],
   "source": [
    "#data test\n",
    "data_inf = {\n",
    "    'limit_balance' : 5430000,\n",
    "    'sex' : 2,\n",
    "    'education_level' : 1,\n",
    "    'marital_status' : 3,\n",
    "    'age' : 35,\n",
    "    'pay_0' : 2,\n",
    "    'pay_2' : 4,\n",
    "    'pay_3' : 2,\n",
    "    'pay_4' : 1,\n",
    "    'pay_5' : -1,\n",
    "    'pay_6' : -1,\n",
    "    'bill_amt_1' : 2231,\n",
    "    'bill_amt_2' : 1000,\n",
    "    'bill_amt_3' : 9000,\n",
    "    'bill_amt_4' : 4000,\n",
    "    'bill_amt_5' : 3000,\n",
    "    'bill_amt_6' : 6000,\n",
    "    'pay_amt_1' : 0,\n",
    "    'pay_amt_2' : 2000,\n",
    "    'pay_amt_3' : 1000,\n",
    "    'pay_amt_4' : 5000,\n",
    "    'pay_amt_5' : 3000,\n",
    "    'pay_amt_6' : 2000\n",
    "}\n",
    "\n",
    "data_inf = pd.DataFrame([data_inf])\n",
    "data_inf"
   ]
  },
  {
   "cell_type": "code",
   "execution_count": null,
   "metadata": {},
   "outputs": [],
   "source": [
    "#Split categorical and numerical\n",
    "data_inf_num = data_inf[list_num]\n",
    "data_inf_kat = data_inf[list_kat]"
   ]
  },
  {
   "cell_type": "code",
   "execution_count": null,
   "metadata": {},
   "outputs": [],
   "source": [
    "#Feature Scaling and Encoding\n",
    "data_inf_scaled = scaler.transform(data_inf_num)\n",
    "data_inf_encoding = ohe.transform(data_inf_kat)\n",
    "nama_fitur=ohe.get_feature_names_out()"
   ]
  },
  {
   "cell_type": "code",
   "execution_count": null,
   "metadata": {},
   "outputs": [],
   "source": [
    "data_inf_encoding=data_inf_encoding.toarray()\n"
   ]
  },
  {
   "cell_type": "code",
   "execution_count": null,
   "metadata": {},
   "outputs": [
    {
     "data": {
      "text/plain": [
       "array([[ 2.93888889e+01,  7.69230769e-02,  2.00000000e+00,\n",
       "         4.00000000e+00,  2.00000000e+00,  1.00000000e+00,\n",
       "        -1.00000000e+00, -1.00000000e+00, -3.29241962e-01,\n",
       "        -3.49330502e-01, -2.10309261e-01, -2.93799206e-01,\n",
       "        -3.18727406e-01, -2.53665472e-01, -5.57904853e-01,\n",
       "        -2.50000000e-02, -2.36686391e-01,  9.25830158e-01,\n",
       "         3.80021716e-01,  1.06452456e-01,  0.00000000e+00,\n",
       "         1.00000000e+00,  0.00000000e+00,  1.00000000e+00,\n",
       "         0.00000000e+00,  0.00000000e+00,  0.00000000e+00,\n",
       "         0.00000000e+00,  0.00000000e+00,  0.00000000e+00,\n",
       "         0.00000000e+00,  0.00000000e+00,  1.00000000e+00]])"
      ]
     },
     "metadata": {},
     "output_type": "display_data"
    }
   ],
   "source": [
    "data_inf_final =  np.concatenate([data_inf_scaled,data_inf_encoding], axis = 1)\n",
    "data_inf_final"
   ]
  },
  {
   "cell_type": "code",
   "execution_count": null,
   "metadata": {},
   "outputs": [
    {
     "name": "stderr",
     "output_type": "stream",
     "text": [
      "c:\\Users\\umicorn\\AppData\\Local\\Programs\\Python\\Python312\\Lib\\site-packages\\sklearn\\base.py:493: UserWarning: X does not have valid feature names, but SVC was fitted with feature names\n",
      "  warnings.warn(\n"
     ]
    },
    {
     "data": {
      "text/plain": [
       "array([1], dtype=int64)"
      ]
     },
     "metadata": {},
     "output_type": "display_data"
    }
   ],
   "source": [
    "model_svm.predict(data_inf_final)"
   ]
  }
 ],
 "metadata": {
  "language_info": {
   "name": "python"
  }
 },
 "nbformat": 4,
 "nbformat_minor": 2
}
